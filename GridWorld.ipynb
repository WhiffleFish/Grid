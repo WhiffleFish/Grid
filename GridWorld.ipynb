{
 "cells": [
  {
   "cell_type": "markdown",
   "metadata": {},
   "source": [
    "# Grid World  \n",
    "- Each action is not entirely deterministic\n",
    "    - 70% chance to go in desired direction\n",
    "    - 10% chance for each of the 3 remaining directions"
   ]
  },
  {
   "cell_type": "code",
   "execution_count": 3,
   "metadata": {},
   "outputs": [],
   "source": [
    "import numpy as np\n",
    "import matplotlib.pyplot as plt"
   ]
  },
  {
   "cell_type": "code",
   "execution_count": 4,
   "metadata": {},
   "outputs": [],
   "source": [
    "class gridAgent(object):\n",
    "    \n",
    "    def __init__(self,neg,random_state=None):\n",
    "        # ------Implement Later as variable size frame------\n",
    "        self.height = 10\n",
    "        self.width = 10\n",
    "        #-------------------------\n",
    "        self.num_neg = neg\n",
    "        self.reset(random_state)\n",
    "        \n",
    "    \n",
    "    def reset(self,random_state):\n",
    "        self.isEnd = False\n",
    "        self.path = []\n",
    "        self.initialize_grid(self.num_neg, random_state)\n",
    "        self.score = 0\n",
    "        \n",
    "        \n",
    "    def initialize_grid(self,neg,random_state):\n",
    "        n = 0\n",
    "        \n",
    "        if random_state:\n",
    "            np.random.seed(random_state)\n",
    "        \n",
    "        # Select Positions\n",
    "        coords = []\n",
    "        while n < neg+2:\n",
    "            [x,y] = (np.random.random(2)*10).astype(int)\n",
    "            if not [x,y] in coords:\n",
    "                coords.append([x,y])\n",
    "                n += 1\n",
    "\n",
    "        self.pos = coords.pop()\n",
    "        self.path.append(self.pos[:])\n",
    "        self.reward_pos = coords.pop()\n",
    "        self.negs = coords\n",
    "\n",
    "\n",
    "    def draw_grid(self, figsize=(6,5)):\n",
    "        fig = plt.figure(figsize=figsize)\n",
    "        ax = fig.add_subplot(1,1,1)\n",
    "        x = np.zeros((10,10,3))\n",
    "        x[tuple([k[0] for k in grid.negs]),tuple([k[1] for k in grid.negs]),tuple([0 for _ in range(len(grid.negs))])] = 1\n",
    "        x[(*grid.reward_pos,1)] = 1\n",
    "        x[tuple([k[0] for k in grid.path]),tuple([k[1] for k in grid.path]),tuple([2 for _ in range(len(grid.path))])] = 1\n",
    "        ax.imshow(x)\n",
    "        ax.set_xticks([])\n",
    "        ax.set_yticks([])\n",
    "        ax.scatter(*self.pos[::-1], s=50, marker='+',c='red')\n",
    "        \n",
    "        \n",
    "    def move(self,direction):\n",
    "        # Deterministic Input\n",
    "        if direction == 'left' and self.pos[1] != 0:\n",
    "            self.pos[1] -= 1\n",
    "        elif direction == 'right' and self.pos[1] != 9:\n",
    "            self.pos[1] += 1\n",
    "        elif direction == 'up' and self.pos[0] != 0:\n",
    "            self.pos[0] -= 1\n",
    "        elif direction == 'down' and self.pos[0] != 9:\n",
    "            self.pos[0] += 1\n",
    "        else:\n",
    "            pass  # Invalid Move\n",
    "    \n",
    "        self.path.append(self.pos[:])\n",
    "        \n",
    "        if self.pos in self.negs:\n",
    "            self.score -= 1\n",
    "        elif self.pos == self.reward_pos:\n",
    "            self.score += 1\n",
    "            self.end()\n",
    "    \n",
    "    \n",
    "    def action(self, direction):\n",
    "        # Introduces Stochastic element\n",
    "        move_list = ['left','right','up','down']\n",
    "        \n",
    "        # If no movement request given, end game\n",
    "        if not direction: \n",
    "            self.end()\n",
    "            return\n",
    "        \n",
    "        # Otherwise, process input\n",
    "        if np.random.random() <= 0.7:\n",
    "            self.move(direction)\n",
    "        else:\n",
    "            move_list.remove(direction)\n",
    "            self.move(np.random.choice(move_list))\n",
    "    \n",
    "    \n",
    "    def policy(self):\n",
    "        dist = np.array(self.reward_pos) - np.array(self.pos)\n",
    "        if dist[1] > 0:\n",
    "            move = 'right'\n",
    "        elif dist[1] < 0:\n",
    "            move = 'left'\n",
    "        elif dist[0] > 0:\n",
    "            move = 'down'\n",
    "        elif dist[0] < 0:\n",
    "            move = 'up'\n",
    "        else: move = None;\n",
    "            \n",
    "        return move\n",
    "    \n",
    "    def end(self):\n",
    "        self.isEnd = True\n",
    "        print('---------------END---------------')\n",
    "        print('Final Score:', self.score)\n",
    "        "
   ]
  },
  {
   "cell_type": "code",
   "execution_count": 5,
   "metadata": {},
   "outputs": [
    {
     "name": "stdout",
     "output_type": "stream",
     "text": [
      "---------------END---------------\n",
      "Final Score: 0\n"
     ]
    },
    {
     "data": {
      "image/png": "[encoded data removed]",
      "text/plain": [
       "<Figure size 432x360 with 1 Axes>"
      ]
     },
     "metadata": {},
     "output_type": "display_data"
    }
   ],
   "source": [
    "grid = gridAgent(5, random_state=42)\n",
    "while not grid.isEnd:\n",
    "    grid.action(grid.policy())\n",
    "    \n",
    "grid.draw_grid()"
   ]
  }
 ],
 "metadata": {
  "kernelspec": {
   "display_name": "Python 3",
   "language": "python",
   "name": "python3"
  },
  "language_info": {
   "codemirror_mode": {
    "name": "ipython",
    "version": 3
   },
   "file_extension": ".py",
   "mimetype": "text/x-python",
   "name": "python",
   "nbconvert_exporter": "python",
   "pygments_lexer": "ipython3",
   "version": "3.7.7"
  }
 },
 "nbformat": 4,
 "nbformat_minor": 4
}
