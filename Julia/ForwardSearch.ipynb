{
 "cells": [
  {
   "cell_type": "code",
   "execution_count": 2,
   "metadata": {},
   "outputs": [],
   "source": [
    "using Luxor\n",
    "using Plots\n",
    "using Base"
   ]
  },
  {
   "cell_type": "code",
   "execution_count": 211,
   "metadata": {},
   "outputs": [
    {
     "data": {
      "text/plain": [
       "10×10 Array{Int16,2}:\n",
       " 0  0  0    0  0  0    0  0   0  0\n",
       " 0  0  0    0  0  0    0  0   0  0\n",
       " 0  0  0    0  0  0    0  3   0  0\n",
       " 0  0  0    0  0  0    0  3   0  0\n",
       " 0  0  0   -5  0  0    0  3   0  0\n",
       " 0  0  0    0  0  0    0  0   0  0\n",
       " 0  0  0    0  0  0    0  0   0  0\n",
       " 0  0  0  -10  0  0  -10  0  10  0\n",
       " 0  0  0    0  0  0    0  0   0  0\n",
       " 0  0  0    0  0  0    0  0   0  0"
      ]
     },
     "execution_count": 211,
     "metadata": {},
     "output_type": "execute_result"
    }
   ],
   "source": [
    "REWARDS = zeros(Int16,10,10)\n",
    "ABSORB_STATES = [[8,9],[3,8],[4,8],[5,8]]\n",
    "REWARDS[8,9] = 10\n",
    "REWARDS[3,8] = 3\n",
    "REWARDS[4,8] = 3\n",
    "REWARDS[5,8] = 3\n",
    "REWARDS[5,4] = -5\n",
    "REWARDS[8,4] = -10\n",
    "REWARDS[8,7] = -10\n",
    "REWARDS"
   ]
  },
  {
   "cell_type": "code",
   "execution_count": 135,
   "metadata": {},
   "outputs": [
    {
     "data": {
      "text/plain": [
       "SelectAction (generic function with 1 method)"
      ]
     },
     "execution_count": 135,
     "metadata": {},
     "output_type": "execute_result"
    }
   ],
   "source": [
    "function R(s,a)\n",
    "    global REWARDS\n",
    "    r = REWARDS[s...]\n",
    "    \n",
    "    if a==\"U\" && s[1] == 1\n",
    "        r -= 1\n",
    "    elseif a==\"D\" && s[1] == 10\n",
    "        r -= 1\n",
    "    elseif a==\"L\" && s[2] == 1\n",
    "        r -= 1\n",
    "    elseif a==\"R\" && s[2] == 10\n",
    "        r -= 1\n",
    "    end\n",
    "        \n",
    "    return r\n",
    "end\n",
    "\n",
    "\n",
    "function S(s,a=nothing)\n",
    "    ALL_MOVES = [[s[1]-1,s[2]], # UP\n",
    "                [s[1]+1,s[2]], # DOWN\n",
    "                [s[1],s[2]-1], # LEFT\n",
    "                [s[1],s[2]+1]] # RIGHT\n",
    "    \n",
    "    return filter(x->x[1]∈1:10 && x[2]∈1:10,ALL_MOVES)\n",
    "end\n",
    "\n",
    "\n",
    "function T(s′,s,a)\n",
    "    pos_prob = 0.7\n",
    "    \n",
    "    diff = s′-s\n",
    "    \n",
    "    t = (1-pos_prob)/3\n",
    "    \n",
    "    if diff == [-1,0] && a==\"U\"\n",
    "        t = pos_prob\n",
    "    elseif diff == [1,0] && a==\"D\"\n",
    "        t = pos_prob\n",
    "    elseif diff == [0,-1] && a==\"L\"\n",
    "        t = pos_prob\n",
    "    elseif diff == [0,1] && a==\"R\"\n",
    "        t = pos_prob\n",
    "    elseif diff ∉ [[-1,0],[1,0],[0,-1],[0,1]]\n",
    "        t = 0\n",
    "    end\n",
    "    \n",
    "    return t\n",
    "end\n",
    "\n",
    "\n",
    "function SelectAction(s,d)\n",
    "    \n",
    "    ACTIONS = [\"U\",\"D\",\"L\",\"R\"];\n",
    "    γ = 0.9;\n",
    "    \n",
    "    if d == 0\n",
    "        return (nothing,0)\n",
    "    end\n",
    "    \n",
    "    (a_star,v_star) = (nothing, -Inf)\n",
    "    \n",
    "    for a ∈ ACTIONS\n",
    "        v = R(s,a)\n",
    "        \n",
    "        for s′ ∈ S(s,a)\n",
    "            \n",
    "            (a′,v′) = SelectAction(s′, d-1)\n",
    "            v = v + γ*T(s′,s,a)*v′\n",
    "        end\n",
    "        \n",
    "        if v > v_star\n",
    "            (a_star,v_star) = (a,v)\n",
    "        end\n",
    "    end\n",
    "    \n",
    "    return  a_star,v_star\n",
    "end"
   ]
  },
  {
   "cell_type": "code",
   "execution_count": 136,
   "metadata": {},
   "outputs": [
    {
     "data": {
      "text/plain": [
       "draw_grid (generic function with 1 method)"
      ]
     },
     "execution_count": 136,
     "metadata": {},
     "output_type": "execute_result"
    }
   ],
   "source": [
    "function draw_grid(grid,pos)\n",
    "    size = [400,400]\n",
    "    Drawing(size...)\n",
    "    background(\"black\")\n",
    "    \n",
    "    grid = transpose(grid)\n",
    "    \n",
    "    pos_n = (pos[1]-1)*10 + pos[2]\n",
    "    \n",
    "    tiles = Tiler(size..., 10, 10, margin=5)\n",
    "    g = [:red, :white, :green]\n",
    "    colors = cgrad(g)\n",
    "    grid_max = max(grid...)\n",
    "    grid_min = min(grid...)\n",
    "    for (pos, n) in tiles\n",
    "        box(pos+Point(size/2...), tiles.tilewidth*0.95, tiles.tileheight*0.95, :clip)\n",
    "        intensity = (grid[n]-grid_min)/(grid_max-grid_min)\n",
    "        background(colors[intensity])\n",
    "        \n",
    "        \n",
    "        sethue(\"black\")\n",
    "        textcentred(string(grid[n]), pos+Point(size/2...))\n",
    "        \n",
    "        if n == pos_n\n",
    "            sethue(\"purple\")\n",
    "            setmode(\"darken\")\n",
    "            circle(pos+Point(size/2...),20,:fill)\n",
    "            setmode(\"over\")\n",
    "        end\n",
    "        \n",
    "        clipreset()\n",
    "        \n",
    "        \n",
    "    end\n",
    "    finish()\n",
    "    preview()\n",
    "end"
   ]
  },
  {
   "cell_type": "code",
   "execution_count": 137,
   "metadata": {},
   "outputs": [
    {
     "data": {
      "text/plain": [
       "move (generic function with 1 method)"
      ]
     },
     "execution_count": 137,
     "metadata": {},
     "output_type": "execute_result"
    }
   ],
   "source": [
    "function move(s,a)\n",
    "    rng = rand()\n",
    "    ACTIONS = [\"U\",\"D\",\"L\",\"R\"]\n",
    "    \n",
    "    \n",
    "    if rng > 0.7\n",
    "        a = rand(filter(x->x≠a,ACTIONS))\n",
    "    end\n",
    "    \n",
    "    r = R(s,a)\n",
    "    \n",
    "    if a == \"U\" && s[1] ≠ 1\n",
    "        s[1] -= 1\n",
    "    elseif a == \"D\" && s[1] ≠ 9\n",
    "        s[1] += 1\n",
    "    elseif a == \"L\" && s[2] ≠ 1\n",
    "        s[2] -= 1\n",
    "    elseif a == \"R\" && s[2] ≠ 9\n",
    "        s[2] += 1\n",
    "    end\n",
    "    \n",
    "    return s,r\n",
    "end"
   ]
  },
  {
   "cell_type": "markdown",
   "metadata": {},
   "source": [
    "# Trapped in Local Maxima\n",
    "- Agent Position denoted by purple circle\n",
    "- Using depth of 5 provides reasonably fast computation time\n",
    "    - However, having positive rewards outside of 5 move range causes agent to continuously avoid negative rewards as opposed to seeking out the positive rewards\n",
    "        - Notice agent tends to upper left corner, maintaining a safe distance from edge bump penalty and -5 reward"
   ]
  },
  {
   "cell_type": "code",
   "execution_count": 212,
   "metadata": {},
   "outputs": [
    {
     "data": {
      "image/png": "[encoded data removed]",
      "text/plain": []
     },
     "execution_count": 212,
     "metadata": {},
     "output_type": "execute_result"
    }
   ],
   "source": [
    "# RESET/INITIALIZE\n",
    "s = [3,4];\n",
    "score = 0;\n",
    "d = 4;\n",
    "draw_grid(REWARDS,s)"
   ]
  },
  {
   "cell_type": "code",
   "execution_count": 229,
   "metadata": {},
   "outputs": [
    {
     "name": "stdout",
     "output_type": "stream",
     "text": [
      "(a_star, v_star) = (\"D\", 0.0)\n",
      "score = 0\n"
     ]
    },
    {
     "data": {
      "image/png": "[encoded data removed]",
      "text/plain": []
     },
     "execution_count": 229,
     "metadata": {},
     "output_type": "execute_result"
    }
   ],
   "source": [
    "# Run Cell Continuously to update position\n",
    "a_star, v_star = SelectAction(s,d)\n",
    "@show a_star, v_star\n",
    "s,r = move(s, a_star)\n",
    "score += r\n",
    "@show score\n",
    "draw_grid(REWARDS,s)"
   ]
  },
  {
   "cell_type": "markdown",
   "metadata": {},
   "source": [
    "# Preferring row of +3's over single +10\n",
    "- Absorbing states not taken into account for in forward search\n",
    "    - Conseqently 3x +3 rewards are valued more highly than single +10 reward\n",
    "    - Result: Suboptimal return of +3 reward as opposed to the possible +10"
   ]
  },
  {
   "cell_type": "code",
   "execution_count": 242,
   "metadata": {},
   "outputs": [
    {
     "data": {
      "image/png": "[encoded data removed]",
      "text/plain": []
     },
     "execution_count": 242,
     "metadata": {},
     "output_type": "execute_result"
    }
   ],
   "source": [
    "# RESET/INITIALIZE\n",
    "s = [7,5];\n",
    "score = 0;\n",
    "d = 5;\n",
    "draw_grid(REWARDS,s)"
   ]
  },
  {
   "cell_type": "code",
   "execution_count": 246,
   "metadata": {},
   "outputs": [
    {
     "name": "stdout",
     "output_type": "stream",
     "text": [
      "(a_star, v_star) = (\"R\", 3.98135736)\n",
      "score = 0\n"
     ]
    },
    {
     "data": {
      "image/png": "[encoded data removed]",
      "text/plain": []
     },
     "execution_count": 246,
     "metadata": {},
     "output_type": "execute_result"
    }
   ],
   "source": [
    "# Run Cell Continuously to update position\n",
    "a_star, v_star = SelectAction(s,d)\n",
    "@show a_star, v_star\n",
    "s,r = move(s, a_star)\n",
    "score += r\n",
    "@show score\n",
    "draw_grid(REWARDS,s)"
   ]
  }
 ],
 "metadata": {
  "kernelspec": {
   "display_name": "Julia 1.4.2",
   "language": "julia",
   "name": "julia-1.4"
  },
  "language_info": {
   "file_extension": ".jl",
   "mimetype": "application/julia",
   "name": "julia",
   "version": "1.4.2"
  }
 },
 "nbformat": 4,
 "nbformat_minor": 4
}
