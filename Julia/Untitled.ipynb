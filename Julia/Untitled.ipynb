{
 "cells": [
  {
   "cell_type": "code",
   "execution_count": 268,
   "metadata": {},
   "outputs": [],
   "source": [
    "using Luxor"
   ]
  },
  {
   "cell_type": "code",
   "execution_count": 186,
   "metadata": {},
   "outputs": [
    {
     "data": {
      "text/plain": [
       "10×10 Array{Float64,2}:\n",
       " 0.0  0.0  0.0    0.0  0.0  0.0  0.0  0.0   0.0  0.0\n",
       " 0.0  0.0  0.0    0.0  0.0  0.0  0.0  0.0   0.0  0.0\n",
       " 0.0  0.0  0.0    0.0  0.0  0.0  0.0  3.0   0.0  0.0\n",
       " 0.0  0.0  0.0    0.0  0.0  0.0  0.0  0.0   0.0  0.0\n",
       " 0.0  0.0  0.0   -5.0  0.0  0.0  0.0  0.0   0.0  0.0\n",
       " 0.0  0.0  0.0    0.0  0.0  0.0  0.0  0.0   0.0  0.0\n",
       " 0.0  0.0  0.0    0.0  0.0  0.0  0.0  0.0   0.0  0.0\n",
       " 0.0  0.0  0.0  -10.0  0.0  0.0  0.0  0.0  10.0  0.0\n",
       " 0.0  0.0  0.0    0.0  0.0  0.0  0.0  0.0   0.0  0.0\n",
       " 0.0  0.0  0.0    0.0  0.0  0.0  0.0  0.0   0.0  0.0"
      ]
     },
     "execution_count": 186,
     "metadata": {},
     "output_type": "execute_result"
    }
   ],
   "source": [
    "grid = zeros(Float64,10,10)\n",
    "\n",
    "grid[8,9] = 10\n",
    "grid[3,8] = 3\n",
    "grid[5,4] = -5\n",
    "grid[8,4] = -10\n",
    "grid\n",
    "\n",
    "values = copy(grid)"
   ]
  },
  {
   "cell_type": "code",
   "execution_count": 311,
   "metadata": {},
   "outputs": [
    {
     "data": {
      "text/plain": [
       "draw_grid (generic function with 2 methods)"
      ]
     },
     "execution_count": 311,
     "metadata": {},
     "output_type": "execute_result"
    }
   ],
   "source": [
    "function draw_grid(grid)\n",
    "    Drawing(400,400)\n",
    "    background(\"black\")\n",
    "    \n",
    "    grid = transpose(grid)\n",
    "    \n",
    "    tiles = Tiler(400, 400, 10, 10, margin=5)\n",
    "    grid_max = max(grid...)\n",
    "    grid_min = min(grid...)\n",
    "    \n",
    "    for (pos, n) in tiles\n",
    "        box(pos+Point(200,200), tiles.tilewidth*0.95, tiles.tileheight*0.95, :clip)\n",
    "        if grid[n] > 0\n",
    "            hue = (grid[n]/max(grid...))\n",
    "            intensity = (1 - hue)/2\n",
    "            if(intensity == 0) \n",
    "                background(1,1,1)\n",
    "            else\n",
    "                background(0,intensity,0)\n",
    "            end\n",
    "        elseif grid[n] < 0\n",
    "            hue = (grid[n]/min(grid...))\n",
    "            intensity = (1 - hue)/2\n",
    "            if(intensity == 0) \n",
    "                background(1,1,1)\n",
    "            else\n",
    "                background(intensity,0,0)\n",
    "            end\n",
    "        else\n",
    "            background(\"white\")\n",
    "        end\n",
    "        sethue(\"black\")\n",
    "        textcentred(string(round(grid[n], digits=2)), pos+Point(200,200))\n",
    "        clipreset()\n",
    "    end\n",
    "    finish()\n",
    "    preview()\n",
    "end"
   ]
  },
  {
   "cell_type": "code",
   "execution_count": 326,
   "metadata": {},
   "outputs": [
    {
     "data": {
      "text/plain": [
       "draw_grid (generic function with 2 methods)"
      ]
     },
     "execution_count": 326,
     "metadata": {},
     "output_type": "execute_result"
    }
   ],
   "source": [
    "function draw_grid(grid)\n",
    "    Drawing(400,400)\n",
    "    background(\"black\")\n",
    "    \n",
    "    grid = transpose(grid)\n",
    "    \n",
    "    tiles = Tiler(400, 400, 10, 10, margin=5)\n",
    "    g = [:red, :white, :green]\n",
    "    colors = cgrad(g)\n",
    "    grid_max = max(grid...)\n",
    "    grid_min = min(grid...)\n",
    "    for (pos, n) in tiles\n",
    "        box(pos+Point(200,200), tiles.tilewidth*0.95, tiles.tileheight*0.95, :clip)\n",
    "        intensity = (grid[n]-grid_min)/(grid_max-grid_min)\n",
    "        background(colors[intensity])\n",
    "        \n",
    "        sethue(\"black\")\n",
    "        textcentred(string(round(grid[n], digits=2)), pos+Point(200,200))\n",
    "        clipreset()\n",
    "    end\n",
    "    finish()\n",
    "    preview()\n",
    "end"
   ]
  },
  {
   "cell_type": "code",
   "execution_count": 327,
   "metadata": {},
   "outputs": [
    {
     "data": {
      "image/png": "[encoded data removed]",
      "text/plain": []
     },
     "execution_count": 327,
     "metadata": {},
     "output_type": "execute_result"
    }
   ],
   "source": [
    "draw_grid(grid)"
   ]
  },
  {
   "cell_type": "markdown",
   "metadata": {},
   "source": [
    "# Policy Evaluation"
   ]
  },
  {
   "cell_type": "code",
   "execution_count": 65,
   "metadata": {},
   "outputs": [],
   "source": [
    "# Create very simple policy\n",
    "p = [\"\" for i in 1:10, j in 1:10]\n",
    "\n",
    "for i in 1:10\n",
    "    for j in 1:10\n",
    "        if i < pos_reward_position[1]\n",
    "            p[i,j] = \"D\"\n",
    "        elseif i > pos_reward_position[1]\n",
    "            p[i,j] = \"U\"\n",
    "        elseif j > pos_reward_position[2]\n",
    "            p[i,j] = \"L\"\n",
    "        elseif j < pos_reward_position[2]\n",
    "            p[i,j] = \"R\"\n",
    "        else\n",
    "            p[i,j] = \"\"\n",
    "        end\n",
    "    end\n",
    "end"
   ]
  },
  {
   "cell_type": "code",
   "execution_count": 157,
   "metadata": {},
   "outputs": [
    {
     "data": {
      "text/plain": [
       "next_pos (generic function with 1 method)"
      ]
     },
     "execution_count": 157,
     "metadata": {},
     "output_type": "execute_result"
    }
   ],
   "source": [
    "# How to represent state?\n",
    "\n",
    "function TransitionProb(s, a, s_prime)\n",
    "    # s_prime and s must be arrays\n",
    "    \n",
    "    diff = s_prime - s\n",
    "    success_prob = 0.70\n",
    "    \n",
    "    if a == \"U\" && diff==[-1,0]\n",
    "        return success_prob\n",
    "    elseif a == \"R\" && diff==[0,1]\n",
    "        return success_prob\n",
    "    elseif a == \"D\" && diff==[1,0]\n",
    "        return success_prob\n",
    "    elseif a == \"L\" && diff==[0,-1]\n",
    "        return success_prob\n",
    "    else\n",
    "        return (1-success_prob)/3\n",
    "    end\n",
    "end\n",
    "\n",
    "\n",
    "function R(s, a, grid)\n",
    "    # Given state s and action a, return reward\n",
    "    \n",
    "    # Handle Edge bumping \n",
    "        # -> -1 reward for edge bump\n",
    "    r = 0\n",
    "    if a == \"U\" && s[2] == 1\n",
    "        return r -= 1\n",
    "    elseif a == \"R\" && s[1] ==10\n",
    "        return r -= 1\n",
    "    elseif a == \"D\" && s[2]== 10\n",
    "        return r -= 1\n",
    "    elseif a == \"L\" && s[1] == 1\n",
    "        return r -= 1\n",
    "    end\n",
    "    \n",
    "    r += grid[s[1],s[2]]\n",
    "    \n",
    "    return r\n",
    "        \n",
    "end\n",
    "\n",
    "\n",
    "function move(s,a)\n",
    "    # Given some action(a) and state(s), return next state s'\n",
    "    actions = [\"L\",\"R\",\"U\",\"D\"]\n",
    "    filter!(x->x≠a,actions)\n",
    "    \n",
    "    prob = rand()\n",
    "    if prob > 0.7\n",
    "        action = a\n",
    "    else\n",
    "        action = rand(actions)\n",
    "    end\n",
    "    \n",
    "    if action == \"L\" && s[2] == 1\n",
    "        return \"\"\n",
    "    elseif action == \"R\" && s[2] == 10\n",
    "        return \"\"\n",
    "    elseif action == \"U\" && s[1] == 1\n",
    "        return \"\"\n",
    "    elseif action == \"D\" && s[1] == 10\n",
    "        return \"\"\n",
    "    else\n",
    "        return action\n",
    "    end        \n",
    "end\n",
    "\n",
    "\n",
    "function next_pos(s,a)\n",
    "    # Returns next position/state given some action input (deterministic)\n",
    "        # Used in padded grid, so no edge exceptions need to be made\n",
    "    if a == \"L\"# && !(s[2] == 1)\n",
    "        return s + [0,-1]\n",
    "    elseif a == \"R\" #&& !(s[2] == 10)\n",
    "        return s + [0,1]\n",
    "    elseif a == \"U\"# && !(s[1] == 1)\n",
    "        return s + [-1,0]\n",
    "    elseif a == \"D\"# && !(s[1] == 10)\n",
    "        return s + [1,0]\n",
    "    else\n",
    "        return s\n",
    "    end        \n",
    "end"
   ]
  },
  {
   "cell_type": "markdown",
   "metadata": {},
   "source": [
    "# Value Iteration\n",
    "\n",
    "$$U_{n}(s)=\\max _{a}\\left(R(s, a)+\\sum_{s^{\\prime}} T\\left(s^{\\prime} \\mid s, a\\right) U_{n-1}\\left(s^{\\prime}\\right)\\right)$$\n",
    "\n",
    "$$U^{*}(s)=\\max _{a}\\left(R(s, a)+\\gamma \\sum_{s^{\\prime}} T\\left(s^{\\prime} \\mid s, a\\right) U^{*}\\left(s^{\\prime}\\right)\\right)$$"
   ]
  },
  {
   "cell_type": "code",
   "execution_count": 340,
   "metadata": {},
   "outputs": [
    {
     "data": {
      "text/plain": [
       "ValueIteration (generic function with 2 methods)"
      ]
     },
     "execution_count": 340,
     "metadata": {},
     "output_type": "execute_result"
    }
   ],
   "source": [
    "# How to represent state?\n",
    "# How to handle box\n",
    "# Structure\n",
    "\n",
    "function ValueIteration(grid, n)\n",
    "    absorb_states = [(8,9),(3,8)] # Excluding (5,4),(8,4)\n",
    "    \n",
    "    k = 0\n",
    "    U_s = copy(grid)\n",
    "    γ = 0.9\n",
    "    all_actions = [\"U\",\"D\",\"L\",\"R\"]\n",
    "    \n",
    "    for i in 1:n\n",
    "        # Create padded grid to handle edge bumping (-1 reward)\n",
    "        padded_grid = copy(U_s)\n",
    "        padded_grid = hcat(ones(10)*-1, padded_grid, ones(10)*-1)\n",
    "        padded_grid = vcat(ones(1,10+2)*-1, padded_grid, ones(1,10+2)*-1)\n",
    "\n",
    "        # Iterate over all grid positions\n",
    "        for i in 1:10\n",
    "            for j in 1:10\n",
    "                s = [i+1,j+1] # Padded Grid Position\n",
    "                R = grid[i,j]\n",
    "                # Iterate over all possible actions to find action that maximizes utility\n",
    "                sums = []\n",
    "                for a in all_actions\n",
    "                    # sum(T*U) for each action\n",
    "                    prob_sum = sum(TransitionProb(s,a,next_pos(s,act))*padded_grid[next_pos(s,act)[1],next_pos(s,act)[2]] for act in all_actions)\n",
    "                    push!(sums,prob_sum)\n",
    "                end\n",
    "                (i,j) in absorb_states ? U_s[i,j] = R : U_s[i,j] = R + γ*findmax(sums)[1]\n",
    "            end\n",
    "        end\n",
    "    end\n",
    "        \n",
    "    return U_s\n",
    "end"
   ]
  },
  {
   "cell_type": "code",
   "execution_count": 344,
   "metadata": {},
   "outputs": [
    {
     "data": {
      "image/png": "[encoded data removed]",
      "text/plain": []
     },
     "execution_count": 344,
     "metadata": {},
     "output_type": "execute_result"
    }
   ],
   "source": [
    "new_grid = ValueIteration(grid,3000);\n",
    "draw_grid(new_grid)"
   ]
  },
  {
   "cell_type": "code",
   "execution_count": null,
   "metadata": {},
   "outputs": [],
   "source": []
  },
  {
   "cell_type": "code",
   "execution_count": null,
   "metadata": {},
   "outputs": [],
   "source": []
  }
 ],
 "metadata": {
  "kernelspec": {
   "display_name": "Julia 1.4.2",
   "language": "julia",
   "name": "julia-1.4"
  },
  "language_info": {
   "file_extension": ".jl",
   "mimetype": "application/julia",
   "name": "julia",
   "version": "1.4.2"
  }
 },
 "nbformat": 4,
 "nbformat_minor": 4
}
