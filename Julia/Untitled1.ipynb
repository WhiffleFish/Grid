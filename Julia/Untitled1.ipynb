{
 "cells": [
  {
   "cell_type": "code",
   "execution_count": 76,
   "metadata": {},
   "outputs": [
    {
     "name": "stderr",
     "output_type": "stream",
     "text": [
      "WARNING: using Plots.text in module Main conflicts with an existing identifier.\n"
     ]
    }
   ],
   "source": [
    "using Luxor\n",
    "using Plots"
   ]
  },
  {
   "cell_type": "code",
   "execution_count": 35,
   "metadata": {},
   "outputs": [
    {
     "data": {
      "image/png": "[encoded data removed]",
      "text/plain": []
     },
     "execution_count": 35,
     "metadata": {},
     "output_type": "execute_result"
    }
   ],
   "source": [
    "Drawing(400,400)\n",
    "background(\"black\")\n",
    "tiles = Tiler(400, 400, 10, 10, margin=5)\n",
    "for (pos, n) in tiles\n",
    "    box(pos+Point(200,200), tiles.tilewidth*0.95, tiles.tileheight*0.95, :clip)\n",
    "    background(0,1,1)\n",
    "    clipreset()\n",
    "end\n",
    "finish()\n",
    "preview()"
   ]
  },
  {
   "cell_type": "code",
   "execution_count": 36,
   "metadata": {},
   "outputs": [
    {
     "data": {
      "text/plain": [
       "4-element Array{Point,1}:\n",
       " Point(-200.0, 100.0)\n",
       " Point(-200.0, -100.0)\n",
       " Point(200.0, -100.0)\n",
       " Point(200.0, 100.0)"
      ]
     },
     "execution_count": 36,
     "metadata": {},
     "output_type": "execute_result"
    }
   ],
   "source": [
    "greenmagenta = blend(Point(0, 0), 5, Point(0, 0), 150, \"green\", \"magenta\")\n",
    "setblend(greenmagenta)\n",
    "box(O, 400, 200, :fill)"
   ]
  },
  {
   "cell_type": "code",
   "execution_count": 53,
   "metadata": {},
   "outputs": [
    {
     "data": {
      "image/png": "[encoded data removed]",
      "text/plain": []
     },
     "execution_count": 53,
     "metadata": {},
     "output_type": "execute_result"
    }
   ],
   "source": [
    "Drawing(200,200)\n",
    "goldblend = blend(Point(0, 0), Point(200, 0))\n",
    "addstop(goldblend, 0.0,  \"red\")\n",
    "addstop(goldblend, 0.5,  \"white\")\n",
    "addstop(goldblend, 1.0,  \"green\")\n",
    "setblend(goldblend)\n",
    "box(O, 400, 200, :fill)\n",
    "finish()\n",
    "preview()\n",
    "\n"
   ]
  },
  {
   "cell_type": "code",
   "execution_count": 141,
   "metadata": {},
   "outputs": [
    {
     "data": {
      "text/plain": [
       ":RdYlGn_9"
      ]
     },
     "execution_count": 141,
     "metadata": {},
     "output_type": "execute_result"
    }
   ],
   "source": [
    "\n",
    "#C(g) = RGB[g[z] for z=LinRange(0,1,50)]\n",
    "g = :RdYlGn_9\n",
    "#println(RGB[g[3]])"
   ]
  },
  {
   "cell_type": "code",
   "execution_count": 124,
   "metadata": {},
   "outputs": [
    {
     "data": {
      "image/svg+xml": [
       "<?xml version=\"1.0\" encoding=\"UTF-8\"?>\n",
       "<!DOCTYPE svg PUBLIC \"-//W3C//DTD SVG 1.1//EN\"\n",
       " \"http://www.w3.org/Graphics/SVG/1.1/DTD/svg11.dtd\">\n",
       "<svg xmlns=\"http://www.w3.org/2000/svg\" version=\"1.1\"\n",
       "     width=\"180mm\" height=\"25mm\"\n",
       "     viewBox=\"0 0 50 1\" preserveAspectRatio=\"none\"\n",
       "     shape-rendering=\"crispEdges\" stroke=\"none\">\n",
       "<rect width=\".72\" height=\".96\" x=\"0\" y=\"0\" fill=\"#D73027\" />\n",
       "<rect width=\".72\" height=\".96\" x=\"1\" y=\"0\" fill=\"#DC3A2C\" />\n",
       "<rect width=\".72\" height=\".96\" x=\"2\" y=\"0\" fill=\"#E04430\" />\n",
       "<rect width=\".72\" height=\".96\" x=\"3\" y=\"0\" fill=\"#E54E35\" />\n",
       "<rect width=\".72\" height=\".96\" x=\"4\" y=\"0\" fill=\"#EA5839\" />\n",
       "<rect width=\".72\" height=\".96\" x=\"5\" y=\"0\" fill=\"#EF623E\" />\n",
       "<rect width=\".72\" height=\".96\" x=\"6\" y=\"0\" fill=\"#F36C42\" />\n",
       "<rect width=\".72\" height=\".96\" x=\"7\" y=\"0\" fill=\"#F57647\" />\n",
       "<rect width=\".72\" height=\".96\" x=\"8\" y=\"0\" fill=\"#F7814C\" />\n",
       "<rect width=\".72\" height=\".96\" x=\"9\" y=\"0\" fill=\"#F88B51\" />\n",
       "<rect width=\".72\" height=\".96\" x=\"10\" y=\"0\" fill=\"#FA9656\" />\n",
       "<rect width=\".72\" height=\".96\" x=\"11\" y=\"0\" fill=\"#FBA15B\" />\n",
       "<rect width=\".72\" height=\".96\" x=\"12\" y=\"0\" fill=\"#FDAB60\" />\n",
       "<rect width=\".72\" height=\".96\" x=\"13\" y=\"0\" fill=\"#FDB466\" />\n",
       "<rect width=\".72\" height=\".96\" x=\"14\" y=\"0\" fill=\"#FDBC6D\" />\n",
       "<rect width=\".72\" height=\".96\" x=\"15\" y=\"0\" fill=\"#FDC474\" />\n",
       "<rect width=\".72\" height=\".96\" x=\"16\" y=\"0\" fill=\"#FECD7B\" />\n",
       "<rect width=\".72\" height=\".96\" x=\"17\" y=\"0\" fill=\"#FED582\" />\n",
       "<rect width=\".72\" height=\".96\" x=\"18\" y=\"0\" fill=\"#FEDD88\" />\n",
       "<rect width=\".72\" height=\".96\" x=\"19\" y=\"0\" fill=\"#FEE390\" />\n",
       "<rect width=\".72\" height=\".96\" x=\"20\" y=\"0\" fill=\"#FEE899\" />\n",
       "<rect width=\".72\" height=\".96\" x=\"21\" y=\"0\" fill=\"#FEEDA1\" />\n",
       "<rect width=\".72\" height=\".96\" x=\"22\" y=\"0\" fill=\"#FFF2AA\" />\n",
       "<rect width=\".72\" height=\".96\" x=\"23\" y=\"0\" fill=\"#FFF7B2\" />\n",
       "<rect width=\".72\" height=\".96\" x=\"24\" y=\"0\" fill=\"#FFFCBB\" />\n",
       "<rect width=\".72\" height=\".96\" x=\"25\" y=\"0\" fill=\"#FCFEBB\" />\n",
       "<rect width=\".72\" height=\".96\" x=\"26\" y=\"0\" fill=\"#F6FBB2\" />\n",
       "<rect width=\".72\" height=\".96\" x=\"27\" y=\"0\" fill=\"#EFF8AA\" />\n",
       "<rect width=\".72\" height=\".96\" x=\"28\" y=\"0\" fill=\"#E9F6A1\" />\n",
       "<rect width=\".72\" height=\".96\" x=\"29\" y=\"0\" fill=\"#E3F399\" />\n",
       "<rect width=\".72\" height=\".96\" x=\"30\" y=\"0\" fill=\"#DDF190\" />\n",
       "<rect width=\".72\" height=\".96\" x=\"31\" y=\"0\" fill=\"#D6EE89\" />\n",
       "<rect width=\".72\" height=\".96\" x=\"32\" y=\"0\" fill=\"#CEEA84\" />\n",
       "<rect width=\".72\" height=\".96\" x=\"33\" y=\"0\" fill=\"#C5E67E\" />\n",
       "<rect width=\".72\" height=\".96\" x=\"34\" y=\"0\" fill=\"#BDE379\" />\n",
       "<rect width=\".72\" height=\".96\" x=\"35\" y=\"0\" fill=\"#B5DF73\" />\n",
       "<rect width=\".72\" height=\".96\" x=\"36\" y=\"0\" fill=\"#ACDC6E\" />\n",
       "<rect width=\".72\" height=\".96\" x=\"37\" y=\"0\" fill=\"#A3D86A\" />\n",
       "<rect width=\".72\" height=\".96\" x=\"38\" y=\"0\" fill=\"#99D369\" />\n",
       "<rect width=\".72\" height=\".96\" x=\"39\" y=\"0\" fill=\"#8ECF67\" />\n",
       "<rect width=\".72\" height=\".96\" x=\"40\" y=\"0\" fill=\"#84CA66\" />\n",
       "<rect width=\".72\" height=\".96\" x=\"41\" y=\"0\" fill=\"#7AC665\" />\n",
       "<rect width=\".72\" height=\".96\" x=\"42\" y=\"0\" fill=\"#6FC164\" />\n",
       "<rect width=\".72\" height=\".96\" x=\"43\" y=\"0\" fill=\"#64BC63\" />\n",
       "<rect width=\".72\" height=\".96\" x=\"44\" y=\"0\" fill=\"#58B65F\" />\n",
       "<rect width=\".72\" height=\".96\" x=\"45\" y=\"0\" fill=\"#4CB05C\" />\n",
       "<rect width=\".72\" height=\".96\" x=\"46\" y=\"0\" fill=\"#3FAA59\" />\n",
       "<rect width=\".72\" height=\".96\" x=\"47\" y=\"0\" fill=\"#33A456\" />\n",
       "<rect width=\".72\" height=\".96\" x=\"48\" y=\"0\" fill=\"#269E53\" />\n",
       "<rect width=\".72\" height=\".96\" x=\"49\" y=\"0\" fill=\"#1A9850\" />\n",
       "</svg>"
      ],
      "text/plain": [
       "50-element Array{RGB,1} with eltype RGB:\n",
       " RGB{Float64}(0.843,0.188,0.153)\n",
       " RGB{Float64}(0.8616122448979592,0.2270204081632653,0.1709591836734694)\n",
       " RGB{Float64}(0.8802244897959183,0.2660408163265306,0.1889183673469388)\n",
       " RGB{Float64}(0.8988367346938775,0.30506122448979595,0.20687755102040817)\n",
       " RGB{Float64}(0.9174489795918367,0.3440816326530612,0.22483673469387755)\n",
       " RGB{Float64}(0.9360612244897959,0.38310204081632654,0.24279591836734696)\n",
       " RGB{Float64}(0.9546734693877551,0.42212244897959184,0.2607551020408163)\n",
       " RGB{Float64}(0.962,0.4634285714285714,0.2797142857142857)\n",
       " RGB{Float64}(0.9677142857142856,0.5050612244897958,0.29881632653061224)\n",
       " RGB{Float64}(0.9734285714285714,0.5466938775510204,0.3179183673469388)\n",
       " RGB{Float64}(0.9791428571428571,0.5883265306122449,0.33702040816326534)\n",
       " RGB{Float64}(0.9848571428571429,0.6299591836734695,0.3561224489795919)\n",
       " RGB{Float64}(0.9905714285714285,0.6715918367346939,0.3752244897959184)\n",
       " ⋮\n",
       " RGB{Float64}(0.5997755102040817,0.8285510204081632,0.41028571428571425)\n",
       " RGB{Float64}(0.558795918367347,0.8105918367346939,0.4057142857142857)\n",
       " RGB{Float64}(0.5178163265306123,0.7926326530612244,0.40114285714285713)\n",
       " RGB{Float64}(0.4768367346938775,0.774673469387755,0.3965714285714286)\n",
       " RGB{Float64}(0.435857142857143,0.7567142857142858,0.392)\n",
       " RGB{Float64}(0.39391836734693914,0.7380408163265307,0.38648979591836746)\n",
       " RGB{Float64}(0.34526530612244877,0.7143673469387753,0.37440816326530607)\n",
       " RGB{Float64}(0.2966122448979594,0.6906938775510205,0.36232653061224496)\n",
       " RGB{Float64}(0.24795918367346903,0.6670204081632651,0.35024489795918357)\n",
       " RGB{Float64}(0.1993061224489797,0.6433469387755102,0.33816326530612245)\n",
       " RGB{Float64}(0.15065306122448985,0.6196734693877551,0.3260816326530612)\n",
       " RGB{Float64}(0.102,0.596,0.314)"
      ]
     },
     "execution_count": 124,
     "metadata": {},
     "output_type": "execute_result"
    }
   ],
   "source": [
    "cgrad(g) |> C"
   ]
  },
  {
   "cell_type": "code",
   "execution_count": 144,
   "metadata": {},
   "outputs": [
    {
     "name": "stdout",
     "output_type": "stream",
     "text": [
      "PlotUtils.ContinuousColorGradient(ColorSchemes.ColorScheme{Array{RGBA{Float64},1},String,String}(RGBA{Float64}[RGBA{Float64}(0.843,0.188,0.153,1.0), RGBA{Float64}(0.957,0.427,0.263,1.0), RGBA{Float64}(0.992,0.682,0.38,1.0), RGBA{Float64}(0.996,0.878,0.545,1.0), RGBA{Float64}(1.0,1.0,0.749,1.0), RGBA{Float64}(0.851,0.937,0.545,1.0), RGBA{Float64}(0.651,0.851,0.416,1.0), RGBA{Float64}(0.4,0.741,0.388,1.0), RGBA{Float64}(0.102,0.596,0.314,1.0)], \"\", \"\"), [0.0, 0.125, 0.25, 0.375, 0.5, 0.625, 0.75, 0.875, 1.0])\n"
     ]
    }
   ],
   "source": [
    "colors = cgrad(g)\n",
    "println(colors)"
   ]
  },
  {
   "cell_type": "code",
   "execution_count": 149,
   "metadata": {},
   "outputs": [
    {
     "name": "stdout",
     "output_type": "stream",
     "text": [
      "RGBA{Float64}(0.9341999999999999,0.3792,0.24100000000000002,1.0)\n"
     ]
    },
    {
     "data": {
      "image/svg+xml": [
       "<?xml version=\"1.0\" encoding=\"UTF-8\"?>\n",
       "<!DOCTYPE svg PUBLIC \"-//W3C//DTD SVG 1.1//EN\"\n",
       " \"http://www.w3.org/Graphics/SVG/1.1/DTD/svg11.dtd\">\n",
       "<svg xmlns=\"http://www.w3.org/2000/svg\" version=\"1.1\"\n",
       "     width=\"25mm\" height=\"25mm\" viewBox=\"0 0 1 1\" stroke=\"none\"\n",
       "     preserveAspectRatio=\"none\" shape-rendering=\"crispEdges\">\n",
       "<defs>\n",
       "    <pattern id=\"pat_hF1P5\" width=\".2\" height=\".2\"\n",
       "             patternUnits=\"userSpaceOnUse\" >\n",
       "        <path d=\"M.1,0h.1v.1h-.2v.1h.1z\" fill=\"#999\" opacity=\".5\" />\n",
       "    </pattern>\n",
       "</defs>\n",
       "<rect width=\"1\" height=\"1\" fill=\"url(#pat_hF1P5)\" />\n",
       "<path d=\"M1,0v1h-1z\" fill=\"#1B9850\" />\n",
       "<path d=\"M0,0h1v1h-1z\" fill=\"#1B9850\" fill-opacity=\"1\" />\n",
       "</svg>"
      ],
      "text/plain": [
       "RGBA{Float64}(0.10438399999999973,0.5971599999999998,0.3145919999999999,1.0)"
      ]
     },
     "execution_count": 149,
     "metadata": {},
     "output_type": "execute_result"
    }
   ],
   "source": [
    "println(colors[0.1])\n",
    "colors[0.999]"
   ]
  },
  {
   "cell_type": "code",
   "execution_count": 140,
   "metadata": {},
   "outputs": [
    {
     "data": {
      "text/plain": [
       ":RdYlGn_9"
      ]
     },
     "execution_count": 140,
     "metadata": {},
     "output_type": "execute_result"
    }
   ],
   "source": []
  },
  {
   "cell_type": "code",
   "execution_count": null,
   "metadata": {},
   "outputs": [],
   "source": []
  }
 ],
 "metadata": {
  "kernelspec": {
   "display_name": "Julia 1.4.2",
   "language": "julia",
   "name": "julia-1.4"
  },
  "language_info": {
   "file_extension": ".jl",
   "mimetype": "application/julia",
   "name": "julia",
   "version": "1.4.2"
  }
 },
 "nbformat": 4,
 "nbformat_minor": 4
}
